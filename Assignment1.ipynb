{
 "cells": [
  {
   "cell_type": "code",
   "execution_count": 1,
   "id": "0644dcc2",
   "metadata": {},
   "outputs": [
    {
     "name": "stdout",
     "output_type": "stream",
     "text": [
      "Assignment 1\n"
     ]
    }
   ],
   "source": [
    "print (\"Assignment 1\")"
   ]
  },
  {
   "cell_type": "code",
   "execution_count": 2,
   "id": "451934cf",
   "metadata": {},
   "outputs": [
    {
     "name": "stdout",
     "output_type": "stream",
     "text": [
      "Q1\n"
     ]
    }
   ],
   "source": [
    "print (\"Q1\")"
   ]
  },
  {
   "cell_type": "code",
   "execution_count": 4,
   "id": "fcbaa19b",
   "metadata": {},
   "outputs": [
    {
     "name": "stdout",
     "output_type": "stream",
     "text": [
      "\n",
      "Twinkle, Twinkle, little star,\n",
      "\tHow I wonder what you are!\n",
      "\t\tUp above the world so high,\n",
      "\t\tLike a diamond in the sky.\n",
      "Twinkle, Twinkle, little star,\n",
      "\tHow I wonder what you are!\n",
      "\n"
     ]
    }
   ],
   "source": [
    "print (\"\"\"\n",
    "Twinkle, Twinkle, little star,\n",
    "\\tHow I wonder what you are!\n",
    "\\t\\tUp above the world so high,\n",
    "\\t\\tLike a diamond in the sky.\n",
    "Twinkle, Twinkle, little star,\n",
    "\\tHow I wonder what you are!\n",
    "\"\"\")"
   ]
  },
  {
   "cell_type": "code",
   "execution_count": 5,
   "id": "50787243",
   "metadata": {},
   "outputs": [
    {
     "name": "stdout",
     "output_type": "stream",
     "text": [
      "Q2\n"
     ]
    }
   ],
   "source": [
    "print (\"Q2\")"
   ]
  },
  {
   "cell_type": "code",
   "execution_count": 6,
   "id": "5a16e1d2",
   "metadata": {},
   "outputs": [
    {
     "name": "stdout",
     "output_type": "stream",
     "text": [
      "Python version\n",
      "3.9.7 (default, Sep 16 2021, 16:59:28) [MSC v.1916 64 bit (AMD64)]\n",
      "sys.version_info(major=3, minor=9, micro=7, releaselevel='final', serial=0)\n"
     ]
    }
   ],
   "source": [
    "import sys\n",
    "print (\"Python version\")\n",
    "print (sys.version)\n",
    "print (sys.version_info)"
   ]
  },
  {
   "cell_type": "code",
   "execution_count": 7,
   "id": "d0fccd7e",
   "metadata": {},
   "outputs": [
    {
     "name": "stdout",
     "output_type": "stream",
     "text": [
      "Q3\n"
     ]
    }
   ],
   "source": [
    "print (\"Q3\")"
   ]
  },
  {
   "cell_type": "code",
   "execution_count": 20,
   "id": "31abc5e1",
   "metadata": {},
   "outputs": [
    {
     "name": "stdout",
     "output_type": "stream",
     "text": [
      "Current date and time: 2022-01-01 22:01:00.623731\n"
     ]
    }
   ],
   "source": [
    "import datetime\n",
    "d= datetime.datetime.now()\n",
    "print(\"Current date and time: \" + str(d))"
   ]
  },
  {
   "cell_type": "code",
   "execution_count": 21,
   "id": "533bfa1f",
   "metadata": {},
   "outputs": [
    {
     "name": "stdout",
     "output_type": "stream",
     "text": [
      "Q4\n"
     ]
    }
   ],
   "source": [
    "print (\"Q4\")"
   ]
  },
  {
   "cell_type": "code",
   "execution_count": 23,
   "id": "3b560659",
   "metadata": {},
   "outputs": [
    {
     "name": "stdout",
     "output_type": "stream",
     "text": [
      "enter the radius\n",
      "2\n",
      "The area of the circle is:12.566370614359172\n"
     ]
    }
   ],
   "source": [
    "from math import pi\n",
    "print(\"enter the radius\")\n",
    "r= int(input())\n",
    "area= pi * (r **2)\n",
    "print(\"The area of the circle is:\" + str(area))"
   ]
  },
  {
   "cell_type": "code",
   "execution_count": 24,
   "id": "016d4bb9",
   "metadata": {},
   "outputs": [
    {
     "name": "stdout",
     "output_type": "stream",
     "text": [
      "Q5\n"
     ]
    }
   ],
   "source": [
    "print (\"Q5\")"
   ]
  },
  {
   "cell_type": "code",
   "execution_count": 27,
   "id": "4e659335",
   "metadata": {},
   "outputs": [
    {
     "name": "stdout",
     "output_type": "stream",
     "text": [
      "Enter your first name\n",
      "Sobyah\n",
      "Enter your last name\n",
      "Siddiqui\n",
      "Reverse: Siddiqui Sobyah\n"
     ]
    }
   ],
   "source": [
    "print (\"Enter your first name\")\n",
    "f=input()\n",
    "print (\"Enter your last name\")\n",
    "l=input()\n",
    "print (\"Reverse: \" + l + \" \" + f)"
   ]
  },
  {
   "cell_type": "code",
   "execution_count": 28,
   "id": "b04c18d1",
   "metadata": {},
   "outputs": [
    {
     "name": "stdout",
     "output_type": "stream",
     "text": [
      "Q6\n"
     ]
    }
   ],
   "source": [
    "print (\"Q6\")"
   ]
  },
  {
   "cell_type": "code",
   "execution_count": 29,
   "id": "c361f27b",
   "metadata": {},
   "outputs": [
    {
     "name": "stdout",
     "output_type": "stream",
     "text": [
      "Enter first number\n",
      "1\n",
      "3\n",
      "The sum of two numbers is : 4\n"
     ]
    }
   ],
   "source": [
    "print (\"Enter first number\")\n",
    "num1=int(input())\n",
    "num2=int(input())\n",
    "sum= num1+num2\n",
    "print(\"The sum of two numbers is : \" + str(sum) )"
   ]
  },
  {
   "cell_type": "code",
   "execution_count": 30,
   "id": "ad87b927",
   "metadata": {},
   "outputs": [
    {
     "name": "stdout",
     "output_type": "stream",
     "text": [
      "Assignment 1 completed\n"
     ]
    }
   ],
   "source": [
    "print (\"Assignment 1 completed\")"
   ]
  },
  {
   "cell_type": "code",
   "execution_count": null,
   "id": "eed999e6",
   "metadata": {},
   "outputs": [],
   "source": []
  }
 ],
 "metadata": {
  "kernelspec": {
   "display_name": "Python 3 (ipykernel)",
   "language": "python",
   "name": "python3"
  },
  "language_info": {
   "codemirror_mode": {
    "name": "ipython",
    "version": 3
   },
   "file_extension": ".py",
   "mimetype": "text/x-python",
   "name": "python",
   "nbconvert_exporter": "python",
   "pygments_lexer": "ipython3",
   "version": "3.9.7"
  }
 },
 "nbformat": 4,
 "nbformat_minor": 5
}
